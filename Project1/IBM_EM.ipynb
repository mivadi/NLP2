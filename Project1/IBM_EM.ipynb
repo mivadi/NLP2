{
 "cells": [
  {
   "cell_type": "markdown",
   "metadata": {},
   "source": [
    "# NLP2 project 1 IBM EM\n",
    "### Mirthe van Diepen and Fabio Curi\n",
    "\n",
    "First import required libaries."
   ]
  },
  {
   "cell_type": "code",
   "execution_count": 1,
   "metadata": {
    "collapsed": true
   },
   "outputs": [],
   "source": [
    "import numpy as np\n",
    "import pandas as pd\n",
    "import tarfile\n",
    "from collections import *\n",
    "import matplotlib.pyplot as plt\n",
    "import random\n",
    "from decimal import Decimal\n",
    "from matplotlib.ticker import NullFormatter  # useful for `logit` scale\n",
    "\n",
    "from scipy import special\n",
    "\n",
    "from itertools import accumulate\n",
    "\n",
    "np.random.seed(19680801)\n",
    "\n",
    "import copy\n",
    "import time"
   ]
  },
  {
   "cell_type": "markdown",
   "metadata": {
    "collapsed": true
   },
   "source": [
    "## Prepare data"
   ]
  },
  {
   "cell_type": "code",
   "execution_count": 2,
   "metadata": {
    "collapsed": true
   },
   "outputs": [],
   "source": [
    "def read_data(tar, names, en_words_u = [], fr_words_u = [], en_words_k = [], fr_words_k = []):\n",
    "    \n",
    "    for member in tar.getmembers():\n",
    "        # check if we want to read this file\n",
    "        if not member.name in names: continue\n",
    "        if member.name == names[0]:\n",
    "            en_tr = tar.extractfile(member).readlines()\n",
    "        elif member.name == names[1]:\n",
    "            fr_tr = tar.extractfile(member).readlines()\n",
    "\n",
    "    # Create dataframe\n",
    "    data = pd.DataFrame({'en': en_tr,'fr': fr_tr})\n",
    "\n",
    "    # Get strings and delete \\n \n",
    "    for i in data.index:\n",
    "        data.at[i, 'en'] = data.at[i, 'en'].decode(\"utf-8\")\n",
    "        data.at[i, 'fr'] = data.at[i, 'fr'].decode(\"utf-8\")\n",
    "        if ' \\n' in data.at[i, 'en']:\n",
    "            data.at[i, 'en'] = data.at[i, 'en'].replace(' \\n','')\n",
    "        if ' \\n' in data.at[i, 'fr']:\n",
    "            data.at[i, 'fr'] = data.at[i, 'fr'].replace(' \\n','')\n",
    "\n",
    "    # create count dictionary \n",
    "    dict_e = defaultdict(lambda: 0)\n",
    "    dict_f = defaultdict(lambda: 0)\n",
    "    for i in data.index:\n",
    "        tokens_e = data.at[i, 'en'].split(' ')\n",
    "        for token in tokens_e:\n",
    "            dict_e[token] += 1\n",
    "        tokens_f = data.at[i, 'fr'].split(' ')\n",
    "        for token in tokens_f:\n",
    "            dict_f[token] += 1\n",
    "                \n",
    "    # Get all bilingual sentences\n",
    "    sentences_u = []\n",
    "    sentences_k = []\n",
    "    for x,y in zip(data['en'], data['fr']):\n",
    "        sentences_u.append([x.split(),y.split()])\n",
    "        sentences_k.append([x.split(),y.split()])\n",
    "\n",
    "    if len(en_words_u) + len(fr_words_u) + len(en_words_k) + len(fr_words_k) == 0:\n",
    "        for s in sentences_u:\n",
    "            for i in range(len(s[0])):\n",
    "                if dict_e[s[0][i]] < 5:\n",
    "                    # replace rare words by 'unk'\n",
    "                    s[0][i] = 'unk'\n",
    "                en_words_u.append(s[0][i])\n",
    "            for i in range(len(s[1])):\n",
    "                if dict_f[s[1][i]] < 5:\n",
    "                    # replace rare words by 'unk'\n",
    "                    s[1][i] = 'unk'\n",
    "                fr_words_u.append(s[1][i])\n",
    "            # add null\n",
    "            s[0] = ['NULL'] + s[0]\n",
    "        for s in sentences_k:\n",
    "            for i in range(len(s[0])):\n",
    "                en_words_k.append(s[0][i])\n",
    "            for i in range(len(s[1])):\n",
    "                fr_words_k.append(s[1][i])\n",
    "            # add null\n",
    "            s[0] = ['NULL'] + s[0]\n",
    "        en_words_u, fr_words_u = sorted(list(set(en_words_u))) , sorted(list(set(fr_words_u)))\n",
    "        en_words_k, fr_words_k = sorted(list(set(en_words_k))) , sorted(list(set(fr_words_k)))\n",
    "        print('Size of English dictionary with unknown words:', len(en_words_u))\n",
    "        print('Size of French dictionary with unknown words:', len(fr_words_u))\n",
    "        print('Size of English dictionary for k-smoothing:', len(en_words_k))\n",
    "        print('Size of French dictionary for k-smoothing:', len(fr_words_k))\n",
    "        return sentences_u, sentences_k, en_words_u, fr_words_u,  en_words_k, fr_words_k\n",
    "    else:\n",
    "        for s in sentences_u:\n",
    "            for i in range(len(s[0])):\n",
    "                if not s[0][i] in en_words_u:\n",
    "                    # replace rare words by 'unk'\n",
    "                    s[0][i] = 'unk'\n",
    "            for i in range(len(s[1])):\n",
    "                if not s[1][i] in fr_words_u:\n",
    "                    # replace rare words by 'unk'\n",
    "                    s[1][i] = 'unk'\n",
    "            # add null\n",
    "            s[0] = ['NULL'] + s[0]\n",
    "            \n",
    "        for s in sentences_k:\n",
    "            # add null\n",
    "            s[0] = ['NULL'] + s[0]\n",
    "            \n",
    "        return data, sentences_u, sentences_k\n",
    "    "
   ]
  },
  {
   "cell_type": "code",
   "execution_count": 3,
   "metadata": {},
   "outputs": [
    {
     "name": "stdout",
     "output_type": "stream",
     "text": [
      "Size of English dictionary with unknown words: 15867\n",
      "Size of French dictionary with unknown words: 19073\n",
      "Size of English dictionary for k-smoothing: 36635\n",
      "Size of French dictionary for k-smoothing: 46421\n"
     ]
    }
   ],
   "source": [
    "# Read training data\n",
    "tar = tarfile.open(\"training.tgz\", \"r:gz\")\n",
    "names = [\"training/hansards.36.2.e\", \"training/hansards.36.2.f\"]\n",
    "sentences_u, sentences_k, en_words_u, fr_words_u,  en_words_k, fr_words_k = read_data(tar, names)\n",
    "\n",
    "# Read test data\n",
    "tar = tarfile.open(\"testing.tgz\", \"r:gz\")\n",
    "names = [\"testing/test/test.e\", \"testing/test/test.f\"]\n",
    "test_data, test_sentences_u, test_sentences_k = read_data(tar, names, en_words_u, fr_words_u,  en_words_k, fr_words_k)\n",
    "\n",
    "# Read validation data\n",
    "tar = tarfile.open(\"validation.tgz\", \"r:gz\")\n",
    "names = [\"validation/dev.e\", \"validation/dev.f\", \"dev.wa.nonullalign\"]\n",
    "_, validation_sentences_u, validation_sentences_k = read_data(tar, names, en_words_u, fr_words_u,  en_words_k, fr_words_k)"
   ]
  },
  {
   "cell_type": "markdown",
   "metadata": {},
   "source": [
    "## Perplexity"
   ]
  },
  {
   "cell_type": "code",
   "execution_count": 4,
   "metadata": {
    "collapsed": true
   },
   "outputs": [],
   "source": [
    "def pfe_IBM1(en, fr, t, epsilon):\n",
    "    \"\"\"\n",
    "    Compute the log probability of a IBM model 1.\n",
    "    \"\"\"\n",
    "    \n",
    "    pef=1\n",
    "    for f in fr: \n",
    "        summ = 0\n",
    "        for e in en: \n",
    "            summ += t[e][f]\n",
    "        pef = pef*summ\n",
    "    \n",
    "    nom=pef*epsilon\n",
    "    den=(len(en)+1)**len(fr)\n",
    "        \n",
    "    pef = Decimal(nom)/Decimal(den)\n",
    "    \n",
    "    return float(pef)          \n",
    "\n",
    "def perplexity_IBM1(sentences, t, epsilon):\n",
    "    \"\"\"\n",
    "    Compute the perplexity.\n",
    "    \"\"\"\n",
    "    \n",
    "    pp = []\n",
    "    for s in sentences:\n",
    "        pfe = pfe_IBM1(s[0], s[1], t, epsilon) # Probability of p(f|e)\n",
    "        pp.append(-np.log2(pfe))\n",
    "\n",
    "    return np.ma.masked_invalid(pp).sum() # Give the results as log2(PP), ignoring -inf\n",
    "\n",
    "\n",
    "def pfe_IBM2(en, fr, pi_t, pi_A, epsilon):\n",
    "    \"\"\"\n",
    "    Compute the log probability of a IBM model 2.\n",
    "    \"\"\"\n",
    "    \n",
    "    l = len(en)\n",
    "    m = len(fr)\n",
    "    prob = epsilon\n",
    "    \n",
    "    for j in range(m):\n",
    "        sum_prob = 0\n",
    "        for i in range(l):\n",
    "            e = en[i]\n",
    "            f = fr[j]\n",
    "            sum_prob += pi_A[l][m][j][i] * pi_t[e][f] \n",
    "        prob *= sum_prob\n",
    "            \n",
    "    return prob \n",
    "\n",
    "\n",
    "def perplexity_IBM2(sentences, pi_t, pi_A, epsilon):\n",
    "    \"\"\"\n",
    "    Compute the perplexity.\n",
    "    \"\"\"\n",
    "    \n",
    "    pp = []\n",
    "    for s in sentences:\n",
    "        pfe = pfe_IBM2(s[0], s[1], pi_t, pi_A, epsilon) # Probability of p(f|e)\n",
    "        pp.append(-np.log2(pfe))\n",
    "\n",
    "    return np.ma.masked_invalid(pp).sum() # Give the results as log2(PP), ignoring -inf"
   ]
  },
  {
   "cell_type": "markdown",
   "metadata": {},
   "source": [
    "## AER"
   ]
  },
  {
   "cell_type": "code",
   "execution_count": 5,
   "metadata": {},
   "outputs": [],
   "source": [
    "# Evolution of alignment error rate (AER) on validation data as a function of the iteration.\n",
    "\n",
    "\"\"\"\n",
    "This module helps you compute AER for validation set after each iteration of EM.\n",
    "Check the test function below for an example of how to use these helper functions.\n",
    "\n",
    "For test results, please use the official AER perl script.\n",
    "\"\"\"\n",
    "\n",
    "def read_naacl_alignments(path):\n",
    "    \"\"\"\n",
    "    Read NAACL-formatted alignment files.\n",
    "\n",
    "    :param path: path to file\n",
    "    :return: a list of pairs [sure set, possible set]\n",
    "        each entry in the set maps an input position to an output position\n",
    "        sentences start from 1 and a NULL token is indicated with position 0\n",
    "    \"\"\"\n",
    "    with open(path) as fi:\n",
    "        ainfo = {}\n",
    "        for i, line in enumerate(fi.readlines()):\n",
    "            fields = line.split()\n",
    "            if not fields:\n",
    "                continue\n",
    "            sure = True  # by default we assumed Sure links\n",
    "            prob = 1.0  # by default we assume prob 1.0\n",
    "            if len(fields) < 3:\n",
    "                raise ValueError('Missing required fields in line %d: %s' % (i, line.strip()))\n",
    "            snt_id, x, y = int(fields[0]), int(fields[1]), int(fields[2])\n",
    "            if len(fields) == 5:\n",
    "                sure = fields[3] == 'S'\n",
    "                prob = float(fields[4])\n",
    "            if len(fields) == 4:\n",
    "                if fields[3] in {'S', 'P'}:\n",
    "                    sure = fields[3] == 'S'\n",
    "                else:\n",
    "                    prob = float(fields[3])\n",
    "            snt_info = ainfo.get(snt_id, None)\n",
    "            if snt_info is None:\n",
    "                snt_info = [set(), set()]  # S and P sets\n",
    "                ainfo[snt_id] = snt_info\n",
    "            if sure:  # Note that S links are also P links: http://dl.acm.org/citation.cfm?id=992810\n",
    "                snt_info[0].add((x, y))\n",
    "                snt_info[1].add((x, y))\n",
    "            else:\n",
    "                snt_info[1].add((x, y))\n",
    "    return tuple(v for k, v in sorted(ainfo.items(), key=lambda pair: pair[0]))\n",
    "\n",
    "\n",
    "class AERSufficientStatistics:\n",
    "    \"\"\"\n",
    "    Object used to compute AER for a corpus.\n",
    "    \"\"\"\n",
    "\n",
    "    def __init__(self):\n",
    "        self.a_and_s = 0\n",
    "        self.a_and_p = 0\n",
    "        self.a = 0\n",
    "        self.s = 0\n",
    "\n",
    "    def __str__(self):\n",
    "        return '%s/%s/%s/%s %s' % (self.a_and_s, self.a_and_p, self.a, self.s, self.aer())\n",
    "\n",
    "    def update(self, sure, probable, predicted):\n",
    "        \"\"\"\n",
    "        Update AER sufficient statistics for a set of predicted links given goldstandard information.\n",
    "\n",
    "        :param sure: set of sure links \n",
    "            a links is a tuple of 1-based positions (from, to) where 0 is reserved for NULL\n",
    "        :param probable: set of probable links (must incude sure links)\n",
    "        :param predicted: set of predicted links\n",
    "        \"\"\"\n",
    "        self.a_and_s += len(predicted & sure)\n",
    "        self.a_and_p += len(predicted & probable)\n",
    "        self.a += len(predicted)\n",
    "        self.s += len(sure)\n",
    "\n",
    "    def aer(self):\n",
    "        \"\"\"Return alignment error rate: 1 - (|A & S| + |A & P|)/(|A| + |S|)\"\"\"\n",
    "        return 1 - (self.a_and_s + self.a_and_p) / (self.a + self.s)\n",
    "\n",
    "\n",
    "def test(path, predictions):\n",
    "    \n",
    "    # read in gold alignments\n",
    "    gold_sets = read_naacl_alignments(path)\n",
    "\n",
    "    # compute AER:\n",
    "\n",
    "    # first we get an object that manages sufficient statistics \n",
    "    metric = AERSufficientStatistics()\n",
    "    # then we iterate over the corpus \n",
    "    for gold, pred in zip(gold_sets, predictions):\n",
    "        metric.update(sure=gold[0], probable=gold[1], predicted=pred)\n",
    "    \n",
    "    return metric.aer()\n",
    "\n",
    "def all_indices(value, qlist):\n",
    "    indices = []\n",
    "    idx = -1\n",
    "    while True:\n",
    "        try:\n",
    "            idx = qlist.index(value, idx+1)\n",
    "            indices.append(idx)\n",
    "        except ValueError:\n",
    "            break\n",
    "    return indices[0]\n",
    "\n",
    "def align_IBM1(s, t):\n",
    "    \n",
    "    alignments=[]\n",
    "    l = len(s[0])\n",
    "    m = len(s[1])\n",
    "    for i in range(l):\n",
    "        if i==0: continue\n",
    "        vals=[]\n",
    "        for j in range(m):\n",
    "            vals.append(t[s[0][i]][s[1][j]])\n",
    "        max_idx = vals.index(max(vals))\n",
    "        alignments.append((i, max_idx+1)) # try +1\n",
    "\n",
    "    return set(alignments)\n",
    "\n",
    "def align_IBM2(s, pi_t, pi_A):\n",
    "    \n",
    "    alignments=[]\n",
    "    l = len(s[0])\n",
    "    m = len(s[1])\n",
    "    for i in range(l):\n",
    "        if i==0: continue\n",
    "        vals=[]\n",
    "        for j in range(m):\n",
    "            vals.append(pi_A[l][m][j][i] * pi_t[s[0][i]][s[1][j]])\n",
    "        max_idx = vals.index(max(vals))\n",
    "        alignments.append((i, max_idx+1))\n",
    "\n",
    "    return set(alignments)"
   ]
  },
  {
   "cell_type": "markdown",
   "metadata": {},
   "source": [
    "## EM for IBM Model 1"
   ]
  },
  {
   "cell_type": "code",
   "execution_count": 6,
   "metadata": {
    "collapsed": true
   },
   "outputs": [],
   "source": [
    "def EM_IBM1(sentences, val_sentences, epsilon, smoothing=False):\n",
    "    \"\"\"\n",
    "    Run EM IBM Model 1\n",
    "    INPUT:\n",
    "        t: translation probabilities (defaultdict(defaultdict(float)))\n",
    "        sentences: list of 2 lists; 1st contains English words (strings) and 2nd contains French words (strings)\n",
    "        iterations: number of requested iterations (positive integer)\n",
    "        epsilon: positive float\n",
    "    OUTPUT:\n",
    "        t: updated translation probabilities (defaultdict(defaultdict(float)))\n",
    "        perplex_vals: the perplixity for all iterations (list of floats)\n",
    "    \"\"\"\n",
    "    \n",
    "    # Initialise the translation probabilities\n",
    "    if not smoothing:\n",
    "        val = 1.0 / len(fr_words_u)\n",
    "        t = defaultdict(lambda: defaultdict(lambda:val))\n",
    "    else:\n",
    "        val = 1.0 / len(fr_words_k)\n",
    "        t = defaultdict(lambda: defaultdict(lambda:val))\n",
    "\n",
    "    perplexity_vals, AER_vals, house_maison, house_demain = [], [], [], []\n",
    "    \n",
    "    iterations = 10\n",
    "    \n",
    "    for i in range(iterations):\n",
    "\n",
    "        print(\"Iteration {}\".format(i))\n",
    "        \n",
    "        # Compute the perplexity\n",
    "        perplexity_vals.append(perplexity_IBM1(sentences, t, epsilon))\n",
    "\n",
    "        # Initialize the dictionaries\n",
    "        count = defaultdict(lambda: defaultdict(lambda:0.))\n",
    "        total = defaultdict(lambda:0.)\n",
    "\n",
    "        for s in sentences:        \n",
    "            \n",
    "            s_total = defaultdict(lambda:0)\n",
    "            \n",
    "            # For every English word, compute the sum of probabilities of French words \n",
    "            # which are possible translations\n",
    "            for e in s[0]:\n",
    "                for f in s[1]:\n",
    "                    s_total[e] += t[e][f]\n",
    "\n",
    "            # Count the normalized total probability of French word f\n",
    "            # is a translation given English word e\n",
    "            for e in s[0]:\n",
    "                for f in s[1]:\n",
    "                    count[e][f] += t[e][f] / s_total[e]\n",
    "                    total[f] += t[e][f] / s_total[e]\n",
    "\n",
    "        for s in sentences:\n",
    "            \n",
    "            # Estimate the new probabilities for all word pairs\n",
    "            for e in s[0]:\n",
    "                for f in s[1]:\n",
    "                    if smoothing: # add k-smoothing with k=5\n",
    "                        k=5\n",
    "                        t[e][f] = (count[e][f]+k) / (total[f] + (k*len(en_words_k)))\n",
    "                    else:\n",
    "                        t[e][f] = count[e][f] / total[f]\n",
    "                    \n",
    "                    \n",
    "        # Store some results for plot\n",
    "        house_maison.append(t['house']['maison'])\n",
    "        house_demain.append(t['house']['demain'])\n",
    "        \n",
    "        # Simulation of a close-to Viterbi algorithm to calculate the AER for each iteration\n",
    "        alignments=[]\n",
    "        for s in val_sentences:\n",
    "            alignments.append(align_IBM1(s,t))\n",
    "        AER_vals.append(test('dev.wa.nonullalign', alignments))\n",
    "                \n",
    "        # Clear all dictionaries\n",
    "        count.clear()\n",
    "        total.clear()\n",
    "        s_total.clear()\n",
    "        \n",
    "    return t, perplexity_vals, AER_vals, house_maison, house_demain"
   ]
  },
  {
   "cell_type": "markdown",
   "metadata": {},
   "source": [
    "### Training\n",
    "\n",
    "Train different models for different values for ε and k-smoothings"
   ]
  },
  {
   "cell_type": "code",
   "execution_count": 7,
   "metadata": {},
   "outputs": [
    {
     "name": "stdout",
     "output_type": "stream",
     "text": [
      "Iteration 0\n"
     ]
    },
    {
     "name": "stderr",
     "output_type": "stream",
     "text": [
      "/Users/mmvandiepen/anaconda3/lib/python3.6/site-packages/ipykernel_launcher.py:28: RuntimeWarning: divide by zero encountered in log2\n"
     ]
    },
    {
     "name": "stdout",
     "output_type": "stream",
     "text": [
      "Iteration 1\n",
      "Iteration 2\n",
      "Iteration 3\n",
      "Iteration 4\n",
      "Iteration 5\n",
      "Iteration 6\n",
      "Iteration 7\n",
      "Iteration 8\n",
      "Iteration 9\n",
      "Iteration 0\n",
      "Iteration 1\n",
      "Iteration 2\n",
      "Iteration 3\n",
      "Iteration 4\n",
      "Iteration 5\n",
      "Iteration 6\n",
      "Iteration 7\n",
      "Iteration 8\n",
      "Iteration 9\n",
      "Iteration 0\n",
      "Iteration 1\n",
      "Iteration 2\n",
      "Iteration 3\n",
      "Iteration 4\n",
      "Iteration 5\n",
      "Iteration 6\n",
      "Iteration 7\n",
      "Iteration 8\n",
      "Iteration 9\n",
      "Iteration 0\n",
      "Iteration 1\n",
      "Iteration 2\n",
      "Iteration 3\n",
      "Iteration 4\n",
      "Iteration 5\n",
      "Iteration 6\n",
      "Iteration 7\n",
      "Iteration 8\n",
      "Iteration 9\n"
     ]
    }
   ],
   "source": [
    "# unknown set\n",
    "t_EM_IBM1_e01_u, perplexity_EM_IBM1_e01_u, AER_EM_IBM1_e01_u, house_maison_e01_u, house_demain_e01_u = EM_IBM1(sentences_u, validation_sentences_u, 0.1)\n",
    "t_EM_IBM1_e05_u, perplexity_EM_IBM1_e05_u, AER_EM_IBM1_e05_u, house_maison_e05_u, house_demain_e05_u = EM_IBM1(sentences_u, validation_sentences_u, 0.05)\n",
    "\n",
    "# k-smoothing:\n",
    "t_EM_IBM1_e01_s, perplexity_EM_IBM1_e01_s, AER_EM_IBM1_e01_s, house_maison_e01_s, house_demain_e01_s = EM_IBM1(sentences_k, validation_sentences_k, 0.1, True)\n",
    "t_EM_IBM1_e05_s, perplexity_EM_IBM1_e05_s, AER_EM_IBM1_e05_s, house_maison_e05_s, house_demain_e05_s = EM_IBM1(sentences_k, validation_sentences_k, 0.05, True)"
   ]
  },
  {
   "cell_type": "code",
   "execution_count": 32,
   "metadata": {},
   "outputs": [
    {
     "name": "stdout",
     "output_type": "stream",
     "text": [
      "The AER of IBM1 with unknown tags and epsilon 0.1 is: 0.2952952952952953\n",
      "The AER of IBM1 with unknown tags and epsilon 0.05 is: 0.2952952952952953\n",
      "The AER of IBM1 with k-smoothing and epsilon 0.1 is: 0.5535535535535536\n",
      "The AER of IBM1 with k-smoothing and epsilon 0.05 is: 0.5535535535535536\n"
     ]
    }
   ],
   "source": [
    "print(\"The AER of IBM1 with unknown tags and epsilon 0.1 is:\", AER_EM_IBM1_e01_u[-1])\n",
    "print(\"The AER of IBM1 with unknown tags and epsilon 0.05 is:\", AER_EM_IBM1_e05_u[-1])\n",
    "print(\"The AER of IBM1 with k-smoothing and epsilon 0.1 is:\", AER_EM_IBM1_e01_s[-1])\n",
    "print(\"The AER of IBM1 with k-smoothing and epsilon 0.05 is:\", AER_EM_IBM1_e05_s[-1])"
   ]
  },
  {
   "cell_type": "markdown",
   "metadata": {},
   "source": [
    "### Experiments"
   ]
  },
  {
   "cell_type": "code",
   "execution_count": 8,
   "metadata": {},
   "outputs": [
    {
     "data": {
      "image/png": "[encoded data removed]",
      "text/plain": [
       "<matplotlib.figure.Figure at 0x151a5fbe48>"
      ]
     },
     "metadata": {},
     "output_type": "display_data"
    }
   ],
   "source": [
    "iterations = range(0, 10)\n",
    "plt.plot(iterations, perplexity_EM_IBM1_e01_u, label=\"data with unknown words, ε=0.1\")\n",
    "plt.plot(iterations, perplexity_EM_IBM1_e05_u, label=\"data with unknown words, ε=0.05\")\n",
    "plt.plot(iterations, perplexity_EM_IBM1_e01_s, label=\"k-smoothing, ε=0.1\")\n",
    "plt.plot(iterations, perplexity_EM_IBM1_e05_s, label=\"k-smoothing, ε=0.05\")\n",
    "plt.title('Perplexity of IBM1')\n",
    "plt.ylabel('Perplexity')\n",
    "plt.xlabel('Iterations')\n",
    "plt.legend()\n",
    "plt.show()"
   ]
  },
  {
   "cell_type": "code",
   "execution_count": 9,
   "metadata": {},
   "outputs": [
    {
     "data": {
      "image/png": "[encoded data removed]",
      "text/plain": [
       "<matplotlib.figure.Figure at 0x15f1738470>"
      ]
     },
     "metadata": {},
     "output_type": "display_data"
    }
   ],
   "source": [
    "iterations = range(1, 11)\n",
    "plt.plot(iterations, AER_EM_IBM1_e01_u, label=\"data with unknown words, ε=0.1\")\n",
    "plt.plot(iterations, AER_EM_IBM1_e05_u, label=\"data with unknown words, ε=0.05\")\n",
    "plt.plot(iterations, AER_EM_IBM1_e01_s, label=\"k-smoothing, ε=0.1\")\n",
    "plt.plot(iterations, AER_EM_IBM1_e05_s, label=\"k-smoothing, ε=0.05\")\n",
    "plt.title('AER of IBM1')\n",
    "plt.ylabel('AER')\n",
    "plt.xlabel('Iterations')\n",
    "plt.legend()\n",
    "plt.show()"
   ]
  },
  {
   "cell_type": "markdown",
   "metadata": {},
   "source": [
    "$t(e\\mid f)$ values for `[e=house, f=maison]` and `[e=house, f=demain]`"
   ]
  },
  {
   "cell_type": "code",
   "execution_count": 10,
   "metadata": {},
   "outputs": [
    {
     "data": {
      "image/png": "[encoded data removed]",
      "text/plain": [
       "<matplotlib.figure.Figure at 0x15c0f1fd68>"
      ]
     },
     "metadata": {},
     "output_type": "display_data"
    }
   ],
   "source": [
    "np.random.seed(19680801)\n",
    "plt.figure(figsize=(14,8))\n",
    "\n",
    "plt.subplot(221)\n",
    "plt.plot(iterations, house_maison_e01_u, 'r--', iterations, house_demain_e01_u, 'bs', linewidth=4)\n",
    "plt.ylabel('t(e|f)')\n",
    "plt.title('data with unknown words, ε=0.1')\n",
    "plt.rcParams.update({'font.size': 15})\n",
    "plt.grid(True)\n",
    "\n",
    "plt.subplot(222)\n",
    "plt.plot(iterations, house_maison_e05_u, 'r--', iterations, house_demain_e05_u, 'bs', linewidth=4)\n",
    "plt.title('data with unknown words, ε=0.05')\n",
    "plt.rcParams.update({'font.size': 15})\n",
    "plt.grid(True)\n",
    "\n",
    "plt.subplot(223)\n",
    "plt.plot(iterations, house_maison_e01_s, 'r--', iterations, house_demain_e01_s, 'bs', linewidth=4)\n",
    "plt.title('k-smoothing, ε=0.1')\n",
    "plt.ylabel('t(e|f)')\n",
    "plt.xlabel('Iterations')\n",
    "plt.rcParams.update({'font.size': 15})\n",
    "plt.grid(True)\n",
    "\n",
    "plt.subplot(224)\n",
    "plt.plot(iterations, house_maison_e05_s, 'r--', iterations, house_demain_e05_s, 'bs', linewidth=4)\n",
    "plt.xlabel('Iterations')\n",
    "plt.title('k-smoothing, ε=0.05')\n",
    "plt.rcParams.update({'font.size': 15})\n",
    "plt.grid(True)\n",
    "\n",
    "\n",
    "plt.gca().yaxis.set_minor_formatter(NullFormatter())\n",
    "plt.subplots_adjust(top=0.92, bottom=0.08, left=0.10, right=0.95, hspace=0.25,\n",
    "                    wspace=0.35)\n",
    "\n",
    "plt.show()"
   ]
  },
  {
   "cell_type": "markdown",
   "metadata": {},
   "source": [
    "### Create NAACL file"
   ]
  },
  {
   "cell_type": "code",
   "execution_count": 16,
   "metadata": {
    "collapsed": true
   },
   "outputs": [],
   "source": [
    "def create_naacl_IBM1(t, test_sentences, path):\n",
    "    f = open(path, \"w+\")\n",
    "    N = len(test_sentences)\n",
    "    for n, s in enumerate(test_sentences):\n",
    "        l = len(s[0])\n",
    "        m = len(s[1])\n",
    "        for i in range(l):\n",
    "            if i==0: continue\n",
    "            vals=[]\n",
    "            for j in range(m):\n",
    "                vals.append(t[s[0][i]][s[1][j]])\n",
    "            max_idx = vals.index(max(vals))\n",
    "            if n==N-1 and i==l-1 and j==m-1:\n",
    "                f.write(\"{} {} {} S\".format(n+1, i, max_idx+1))\n",
    "            else:\n",
    "                f.write(\"{} {} {} S\\n\".format(n+1, i, max_idx+1))\n",
    "    f.close()"
   ]
  },
  {
   "cell_type": "code",
   "execution_count": 17,
   "metadata": {},
   "outputs": [],
   "source": [
    "create_naacl_IBM1(t_EM_IBM1_e01_u, validation_sentences_u, \"ibm1.mle.naacl\")"
   ]
  },
  {
   "cell_type": "markdown",
   "metadata": {},
   "source": [
    "## EM IBM 2 \n",
    "\n",
    "The alignment probs are in dictionary: \n",
    "\n",
    "`pi_A = [length l of english sentence e][length m of french sentence f][jth word in f][ith word in e]`"
   ]
  },
  {
   "cell_type": "code",
   "execution_count": 18,
   "metadata": {
    "collapsed": true
   },
   "outputs": [],
   "source": [
    "def EM_IBM2(pi_t, pi_A, sentences, val_sentences, epsilon, smoothing=False):\n",
    "    \"\"\"\n",
    "    Run EM IBM Model 2\n",
    "    INPUT:\n",
    "        pi_t: translation probabilities (defaultdict(defaultdict(float)))\n",
    "        pi_A: alignments defaultdict: \n",
    "        sentences: list of 2 lists; 1st contains English words (strings) and 2nd contains French words (strings)\n",
    "        iterations: number of requested iterations (positive integer)\n",
    "        epsilon: positive float near zero\n",
    "    OUTPUT:\n",
    "        pi_t: updated translation probabilities (defaultdict(defaultdict(float)))\n",
    "        pi_A: updated allignments\n",
    "        perplex_vals: the perplixity for all iterations (list of floats)\n",
    "    \"\"\"\n",
    "    \n",
    "    \n",
    "    perplexity_vals = []\n",
    "    AER_vals = []\n",
    "    iterations = 10\n",
    "    \n",
    "    for i in range(iterations):\n",
    "        \n",
    "        print(\"Iteration {}\".format(i))\n",
    "        \n",
    "        # compute perplexity\n",
    "        perplexity_val = perplexity_IBM2(sentences, pi_t, pi_A, epsilon)\n",
    "        perplexity_vals.append(perplexity_val)\n",
    "\n",
    "        # set all counts to zero\n",
    "        count_pairs = defaultdict(lambda: defaultdict(lambda:0.))\n",
    "        count_total = defaultdict(lambda:0.)\n",
    "        count_cond = defaultdict(lambda: defaultdict(lambda: defaultdict(lambda: defaultdict(lambda:0.))))\n",
    "        count_prior = defaultdict(lambda: defaultdict(lambda: defaultdict(lambda:0)))\n",
    "        \n",
    "        for s in sentences:\n",
    "        \n",
    "            # initialize s_total\n",
    "            s_total = defaultdict(lambda:0)\n",
    "            \n",
    "            l = len(s[0])\n",
    "            m = len(s[1])\n",
    "\n",
    "            # for every English word compute the sum of probabilities\n",
    "            # of French words which are possible translations\n",
    "            for i in range(l):\n",
    "                for j in range(m):\n",
    "                    e = s[0][i]\n",
    "                    f = s[1][j]\n",
    "                    s_total[f] += pi_A[l][m][j][i] * pi_t[e][f]\n",
    "\n",
    "            # count the normalized total probability of French word f\n",
    "            # is a translation given English word e\n",
    "            for i in range(l):\n",
    "                for j in range(m):\n",
    "                    e = s[0][i]\n",
    "                    f = s[1][j]\n",
    "                    delta = pi_A[l][m][j][i] * pi_t[e][f] / s_total[f]\n",
    "                    count_pairs[e][f] += delta\n",
    "                    count_total[e] += delta\n",
    "                    count_cond[l][m][j][i] += delta\n",
    "                    count_prior[l][m][j] += delta\n",
    "            \n",
    "            # clear s_total\n",
    "            s_total.clear()\n",
    "        \n",
    "        # estimate the new probabilities for all word pairs and all alignments\n",
    "        pi_t.clear()\n",
    "        pi_A.clear()\n",
    "        pi_t = defaultdict(lambda: defaultdict(lambda:0.))\n",
    "        pi_A = defaultdict(lambda: defaultdict(lambda: defaultdict(lambda: defaultdict(lambda:0.))))\n",
    "        for s in sentences:\n",
    "            l = len(s[0])\n",
    "            m = len(s[1])\n",
    "            for i in range(l):\n",
    "                for j in range(m):\n",
    "                    e = s[0][i]\n",
    "                    f = s[1][j]\n",
    "                    if smoothing: # add k-smoothing with k=5\n",
    "                        k=5\n",
    "                        pi_t[e][f] = (count_pairs[e][f]+k) / (count_total[e]+k*len(en_words_k))\n",
    "                    else:\n",
    "                        pi_t[e][f] = count_pairs[e][f] / count_total[e]\n",
    "                    pi_A[l][m][j][i] = count_cond[l][m][j][i] / count_prior[l][m][j]\n",
    "\n",
    "        \n",
    "        # Simulation of a close-to Viterbi algorithm to calculate the AER for each iteration\n",
    "        alignments=[]\n",
    "        for s in val_sentences:\n",
    "            alignments.append(align_IBM2(s, pi_t, pi_A))\n",
    "        AER_vals.append(test('dev.wa.nonullalign', alignments))\n",
    "        \n",
    "        # clear all counts\n",
    "        count_pairs.clear()\n",
    "        count_total.clear()\n",
    "        count_cond.clear()\n",
    "        count_prior.clear()\n",
    "                \n",
    "    print(\"Finished training\\n\")\n",
    "                \n",
    "    return pi_t, pi_A, perplexity_vals, AER_vals"
   ]
  },
  {
   "cell_type": "markdown",
   "metadata": {},
   "source": [
    "### Initialize and train uniform IBM2"
   ]
  },
  {
   "cell_type": "code",
   "execution_count": 19,
   "metadata": {
    "collapsed": true
   },
   "outputs": [],
   "source": [
    "class uniform_dict_A(defaultdict):\n",
    "    def __init__(self, f_of_x):\n",
    "        super().__init__(None)\n",
    "        self.f_of_x = f_of_x\n",
    "        \n",
    "    def __missing__(self, key):\n",
    "        value = self.f_of_x(key)\n",
    "        self[key] = defaultdict(lambda: defaultdict(lambda: defaultdict(lambda: value)))\n",
    "        return self[key]"
   ]
  },
  {
   "cell_type": "code",
   "execution_count": 21,
   "metadata": {},
   "outputs": [
    {
     "name": "stdout",
     "output_type": "stream",
     "text": [
      "Initialization of pi_t and pi_A uniform:  154.30978918075562\n"
     ]
    }
   ],
   "source": [
    "# initialize uniform pi_t and pi_A\n",
    "start = time.time()\n",
    "val = 1.0 / len(fr_words_u)\n",
    "pi_t_U = defaultdict(lambda: defaultdict(lambda:val))\n",
    "pi_A_U1 = uniform_dict_A(lambda x: 1/x)\n",
    "pi_A_U2 = uniform_dict_A(lambda x: 1/x)\n",
    "for s in sentences_u:\n",
    "    l = len(s[0])\n",
    "    m = len(s[1])\n",
    "    for j in range(m):\n",
    "        for i in range(l):\n",
    "            pi_t_U[s[0][i]][s[1][j]]\n",
    "            pi_A_U1[l][m][j][i]\n",
    "            pi_A_U2[l][m][j][i]\n",
    "            \n",
    "end = time.time()\n",
    "print(\"Initialization of pi_t and pi_A uniform: \", end-start)"
   ]
  },
  {
   "cell_type": "code",
   "execution_count": 28,
   "metadata": {},
   "outputs": [
    {
     "name": "stdout",
     "output_type": "stream",
     "text": [
      "Iteration 0\n"
     ]
    },
    {
     "name": "stderr",
     "output_type": "stream",
     "text": [
      "/Users/mmvandiepen/anaconda3/lib/python3.6/site-packages/ipykernel_launcher.py:61: RuntimeWarning: divide by zero encountered in log2\n"
     ]
    },
    {
     "name": "stdout",
     "output_type": "stream",
     "text": [
      "Iteration 1\n",
      "Iteration 2\n",
      "Iteration 3\n",
      "Iteration 4\n",
      "Iteration 5\n",
      "Iteration 6\n",
      "Iteration 7\n",
      "Iteration 8\n",
      "Iteration 9\n",
      "Finished training\n",
      "\n"
     ]
    }
   ],
   "source": [
    "epsilon = 0.1\n",
    "pi_t_EM_IBM2_U, pi_A_EM_IBM2_U, perplexity_EM_IBM2_U, AER_EM_IBM2_U = EM_IBM2(pi_t_U, pi_A_U1, sentences_u, validation_sentences_u, epsilon, False)\n"
   ]
  },
  {
   "cell_type": "code",
   "execution_count": 29,
   "metadata": {},
   "outputs": [
    {
     "name": "stdout",
     "output_type": "stream",
     "text": [
      "Iteration 0\n"
     ]
    },
    {
     "name": "stderr",
     "output_type": "stream",
     "text": [
      "/Users/mmvandiepen/anaconda3/lib/python3.6/site-packages/ipykernel_launcher.py:61: RuntimeWarning: divide by zero encountered in log2\n"
     ]
    },
    {
     "name": "stdout",
     "output_type": "stream",
     "text": [
      "Iteration 1\n",
      "Iteration 2\n",
      "Iteration 3\n",
      "Iteration 4\n",
      "Iteration 5\n",
      "Iteration 6\n",
      "Iteration 7\n",
      "Iteration 8\n",
      "Iteration 9\n",
      "Finished training\n",
      "\n"
     ]
    }
   ],
   "source": [
    "pi_t_U2 = t_EM_IBM1_e01_u.copy()\n",
    "pi_t_EM_IBM2_UM1, pi_A_EM_IBM2_UM1, perplexity_EM_IBM2_UM1, AER_EM_IBM2_UM1 = EM_IBM2(pi_t_U2, pi_A_U2, sentences_u, validation_sentences_u, epsilon, False)\n"
   ]
  },
  {
   "cell_type": "markdown",
   "metadata": {},
   "source": [
    "### Initialize and train random IBM2"
   ]
  },
  {
   "cell_type": "code",
   "execution_count": 23,
   "metadata": {},
   "outputs": [
    {
     "name": "stdout",
     "output_type": "stream",
     "text": [
      "Initialization of pi_t and pi_A random:  952.709331035614\n"
     ]
    }
   ],
   "source": [
    "start = time.time()\n",
    "\n",
    "pi_A_R_1 = defaultdict(lambda:defaultdict(lambda:defaultdict(lambda:defaultdict(lambda:0))))\n",
    "pi_A_R_2 = defaultdict(lambda:defaultdict(lambda:defaultdict(lambda:defaultdict(lambda:0))))\n",
    "for s in sentences_u:\n",
    "    l = len(s[0])\n",
    "    m = len(s[1])\n",
    "    for j in range(m):\n",
    "        random_list = np.random.rand(l)\n",
    "        random_list = random_list/sum(random_list)\n",
    "        random_list = random_list.tolist()\n",
    "        for i in range(l):\n",
    "            value = np.random.choice(random_list)\n",
    "            random_list.remove(value)\n",
    "            pi_A_R_1[l][m][j][i] = value\n",
    "            pi_A_R_2[l][m][j][i] = value            \n",
    "\n",
    "pi_t_R = defaultdict(lambda: defaultdict(lambda: 0.))\n",
    "sum_vals_u = defaultdict(lambda:0.)\n",
    "for s in sentences_u:\n",
    "    for e in s[0]:\n",
    "        for f in s[1]:\n",
    "            pi_t_R[e][f] = random.uniform(0.1,0.9)\n",
    "            sum_vals_u[e] += pi_t_R[e][f]\n",
    "for e in pi_t_R.keys():\n",
    "    for f in pi_t_R[e].keys():\n",
    "        pi_t_R[e][f] /= sum_vals_u[e]\n",
    "        \n",
    "end = time.time()\n",
    "print(\"Initialization of pi_t and pi_A random: \", end-start)"
   ]
  },
  {
   "cell_type": "code",
   "execution_count": 30,
   "metadata": {},
   "outputs": [
    {
     "name": "stdout",
     "output_type": "stream",
     "text": [
      "Iteration 0\n"
     ]
    },
    {
     "name": "stderr",
     "output_type": "stream",
     "text": [
      "/Users/mmvandiepen/anaconda3/lib/python3.6/site-packages/ipykernel_launcher.py:61: RuntimeWarning: divide by zero encountered in log2\n"
     ]
    },
    {
     "name": "stdout",
     "output_type": "stream",
     "text": [
      "Iteration 1\n",
      "Iteration 2\n",
      "Iteration 3\n",
      "Iteration 4\n",
      "Iteration 5\n",
      "Iteration 6\n",
      "Iteration 7\n",
      "Iteration 8\n",
      "Iteration 9\n",
      "Finished training\n",
      "\n"
     ]
    }
   ],
   "source": [
    "epsilon = 0.1\n",
    "pi_t_EM_IBM2_R, pi_A_EM_IBM2_R, perplexity_EM_IBM2_R, AER_EM_IBM2_R = EM_IBM2(pi_t_R, pi_A_R_1, sentences_u, validation_sentences_u, epsilon, False)\n"
   ]
  },
  {
   "cell_type": "code",
   "execution_count": 31,
   "metadata": {},
   "outputs": [
    {
     "name": "stdout",
     "output_type": "stream",
     "text": [
      "Iteration 0\n"
     ]
    },
    {
     "name": "stderr",
     "output_type": "stream",
     "text": [
      "/Users/mmvandiepen/anaconda3/lib/python3.6/site-packages/ipykernel_launcher.py:61: RuntimeWarning: divide by zero encountered in log2\n"
     ]
    },
    {
     "name": "stdout",
     "output_type": "stream",
     "text": [
      "Iteration 1\n",
      "Iteration 2\n",
      "Iteration 3\n",
      "Iteration 4\n",
      "Iteration 5\n",
      "Iteration 6\n",
      "Iteration 7\n",
      "Iteration 8\n",
      "Iteration 9\n",
      "Finished training\n",
      "\n"
     ]
    }
   ],
   "source": [
    "pi_t_R2 = t_EM_IBM1_e01_u.copy()\n",
    "pi_t_EM_IBM2_RM1, pi_A_EM_IBM2_RM1, perplexity_EM_IBM2_RM1, AER_EM_IBM2_RM1 = EM_IBM2(pi_t_R2, pi_A_R_2, sentences_u, validation_sentences_u, epsilon, False)\n"
   ]
  },
  {
   "cell_type": "markdown",
   "metadata": {},
   "source": [
    "### Experiments"
   ]
  },
  {
   "cell_type": "code",
   "execution_count": 35,
   "metadata": {},
   "outputs": [
    {
     "name": "stdout",
     "output_type": "stream",
     "text": [
      "The AER of IBM2 with t: uniform and a: uniform is: 0.2912912912912913\n",
      "The AER of IBM2 with t: IBM model 1 and a: uniform is: 0.26626626626626626\n",
      "The AER of IBM2 with t: random and a: random is: 0.2992992992992993\n",
      "The AER of IBM2 with t: IBM model 1 and a: random is: 0.26626626626626626\n"
     ]
    }
   ],
   "source": [
    "print(\"The AER of IBM2 with t: uniform and a: uniform is:\", AER_EM_IBM2_U[-1])\n",
    "print(\"The AER of IBM2 with t: IBM model 1 and a: uniform is:\", AER_EM_IBM2_UM1[-1])\n",
    "print(\"The AER of IBM2 with t: random and a: random is:\", AER_EM_IBM2_R[-1])\n",
    "print(\"The AER of IBM2 with t: IBM model 1 and a: random is:\", AER_EM_IBM2_RM1[-1])"
   ]
  },
  {
   "cell_type": "code",
   "execution_count": 33,
   "metadata": {},
   "outputs": [
    {
     "data": {
      "image/png": "[encoded data removed]",
      "text/plain": [
       "<matplotlib.figure.Figure at 0x151cef4898>"
      ]
     },
     "metadata": {},
     "output_type": "display_data"
    }
   ],
   "source": [
    "iterations = range(0, 10)\n",
    "plt.plot(iterations, perplexity_EM_IBM2_U, label=\"t: uniform, a: uniform\")\n",
    "plt.plot(iterations, perplexity_EM_IBM2_UM1, label=\"t: IBM model 1, a: uniform\")\n",
    "plt.plot(iterations, perplexity_EM_IBM2_R, label=\"t: random, a: random\")\n",
    "plt.plot(iterations, perplexity_EM_IBM2_RM1, label=\"t: IBM model 1, a: random\")\n",
    "plt.title('Perplexity of IBM2')\n",
    "plt.ylabel('Perplexity')\n",
    "plt.xlabel('Iterations')\n",
    "plt.legend()\n",
    "plt.show()"
   ]
  },
  {
   "cell_type": "code",
   "execution_count": 34,
   "metadata": {},
   "outputs": [
    {
     "data": {
      "image/png": "[encoded data removed]",
      "text/plain": [
       "<matplotlib.figure.Figure at 0x1588309908>"
      ]
     },
     "metadata": {},
     "output_type": "display_data"
    }
   ],
   "source": [
    "iterations = range(1, 11)\n",
    "plt.plot(iterations, AER_EM_IBM2_U, label=\"t: uniform, a: uniform\")\n",
    "plt.plot(iterations, AER_EM_IBM2_UM1, label=\"t: IBM model 1, a: uniform\")\n",
    "plt.plot(iterations, AER_EM_IBM2_R, label=\"t: random, a: random\")\n",
    "plt.plot(iterations, AER_EM_IBM2_RM1, label=\"t: IBM model 1, a: random\")\n",
    "plt.title('AER of IBM1')\n",
    "plt.ylabel('AER')\n",
    "plt.xlabel('Iterations')\n",
    "plt.legend()\n",
    "plt.show()"
   ]
  },
  {
   "cell_type": "markdown",
   "metadata": {},
   "source": [
    "## Create NAACL file"
   ]
  },
  {
   "cell_type": "code",
   "execution_count": 38,
   "metadata": {
    "collapsed": true
   },
   "outputs": [],
   "source": [
    "def create_naacl_IBM2(pi_t, pi_A, test_sentences, path):\n",
    "    f = open(path, \"w+\")\n",
    "    N = len(test_sentences)\n",
    "    for n, s in enumerate(test_sentences):\n",
    "        l = len(s[0])\n",
    "        m = len(s[1])\n",
    "        for i in range(l):\n",
    "            if i==0: continue\n",
    "            vals=[]\n",
    "            for j in range(m):\n",
    "                vals.append(pi_A[l][m][j][i] * pi_t[s[0][i]][s[1][j]])\n",
    "            max_idx = vals.index(max(vals))\n",
    "            if n==N-1 and i==l-1 and j==m-1:\n",
    "                f.write(\"{} {} {} S\".format(n+1, i, max_idx+1))\n",
    "            else:\n",
    "                f.write(\"{} {} {} S\\n\".format(n+1, i, max_idx+1))\n",
    "    f.close()"
   ]
  },
  {
   "cell_type": "code",
   "execution_count": 39,
   "metadata": {
    "collapsed": true
   },
   "outputs": [],
   "source": [
    "create_naacl_IBM2(pi_t_EM_IBM2_UM1, pi_A_EM_IBM2_UM1, test_sentences_u, \"ibm2.mle.naacl\")"
   ]
  }
 ],
 "metadata": {
  "kernelspec": {
   "display_name": "Python 3",
   "language": "python",
   "name": "python3"
  },
  "language_info": {
   "codemirror_mode": {
    "name": "ipython",
    "version": 3
   },
   "file_extension": ".py",
   "mimetype": "text/x-python",
   "name": "python",
   "nbconvert_exporter": "python",
   "pygments_lexer": "ipython3",
   "version": "3.6.3"
  }
 },
 "nbformat": 4,
 "nbformat_minor": 2
}
